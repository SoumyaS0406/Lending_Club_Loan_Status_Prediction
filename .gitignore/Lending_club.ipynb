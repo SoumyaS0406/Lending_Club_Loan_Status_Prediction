{
 "cells": [
  {
   "cell_type": "code",
   "execution_count": 8,
   "metadata": {
    "collapsed": true
   },
   "outputs": [],
   "source": [
    "import numpy as np\n",
    "import pandas as pd\n",
    "import matplotlib.pyplot as plt\n",
    "import seaborn as sns\n",
    "%matplotlib inline\n",
    "low_memory=False\n",
    "sns.set(color_codes=True)\n",
    "import sklearn\n",
    "from sklearn.model_selection import train_test_split,cross_val_score,KFold\n",
    "from sklearn.preprocessing import Imputer\n",
    "from sklearn.preprocessing import StandardScaler,QuantileTransformer\n",
    "from sklearn.cross_validation import StratifiedKFold\n",
    "from sklearn.linear_model import LogisticRegression\n",
    "from sklearn.neighbors import KNeighborsClassifier\n",
    "from sklearn.tree import DecisionTreeClassifier\n",
    "from sklearn.model_selection import cross_val_score\n",
    "from sklearn.metrics import classification_report\n",
    "from sklearn.metrics import accuracy_score\n",
    "from sklearn.metrics import confusion_matrix\n",
    "from sklearn.naive_bayes import GaussianNB\n",
    "from sklearn.neighbors import KNeighborsClassifier\n",
    "from sklearn.tree import DecisionTreeClassifier\n",
    "from sklearn.ensemble import RandomForestClassifier\n",
    "from sklearn.pipeline import Pipeline\n",
    "from sklearn.feature_selection import SelectFromModel\n",
    "from sklearn.svm import LinearSVC\n",
    "\n",
    "\n"
   ]
  },
  {
   "cell_type": "markdown",
   "metadata": {},
   "source": [
    "http://kldavenport.com/lending-club-data-analysis-revisted-with-python/"
   ]
  },
  {
   "cell_type": "code",
   "execution_count": 9,
   "metadata": {
    "collapsed": true
   },
   "outputs": [],
   "source": [
    "def change_obj_to_category(df):\n",
    "    i=0;\n",
    "    while i<df.columns.size:\n",
    "        if (df.dtypes[df.columns[i]] == 'object' or df.dtypes[df.columns[i]] == 'bool'):\n",
    "            col = df.dtypes.index[i]\n",
    "            df[col] = df[col].astype('category')\n",
    "        i = i+1 "
   ]
  },
  {
   "cell_type": "code",
   "execution_count": 10,
   "metadata": {},
   "outputs": [
    {
     "name": "stderr",
     "output_type": "stream",
     "text": [
      "C:\\Users\\soumya\\Anaconda3\\anaconda\\lib\\site-packages\\IPython\\core\\interactiveshell.py:2698: DtypeWarning: Columns (0) have mixed types. Specify dtype option on import or set low_memory=False.\n",
      "  interactivity=interactivity, compiler=compiler, result=result)\n"
     ]
    }
   ],
   "source": [
    "raw_data = pd.read_csv('C:\\\\Users\\\\soumya\\\\Documents\\\\MACHINE_LEARNING\\\\Ind_Project\\\\LendingClub2012to2013.csv')\n"
   ]
  },
  {
   "cell_type": "code",
   "execution_count": 11,
   "metadata": {},
   "outputs": [
    {
     "data": {
      "text/html": [
       "<div>\n",
       "<style>\n",
       "    .dataframe thead tr:only-child th {\n",
       "        text-align: right;\n",
       "    }\n",
       "\n",
       "    .dataframe thead th {\n",
       "        text-align: left;\n",
       "    }\n",
       "\n",
       "    .dataframe tbody tr th {\n",
       "        vertical-align: top;\n",
       "    }\n",
       "</style>\n",
       "<table border=\"1\" class=\"dataframe\">\n",
       "  <thead>\n",
       "    <tr style=\"text-align: right;\">\n",
       "      <th></th>\n",
       "      <th>id</th>\n",
       "      <th>member_id</th>\n",
       "      <th>loan_amnt</th>\n",
       "      <th>funded_amnt</th>\n",
       "      <th>funded_amnt_inv</th>\n",
       "      <th>term</th>\n",
       "      <th>int_rate</th>\n",
       "      <th>installment</th>\n",
       "      <th>grade</th>\n",
       "      <th>sub_grade</th>\n",
       "      <th>...</th>\n",
       "      <th>num_tl_90g_dpd_24m</th>\n",
       "      <th>num_tl_op_past_12m</th>\n",
       "      <th>pct_tl_nvr_dlq</th>\n",
       "      <th>percent_bc_gt_75</th>\n",
       "      <th>pub_rec_bankruptcies</th>\n",
       "      <th>tax_liens</th>\n",
       "      <th>tot_hi_cred_lim</th>\n",
       "      <th>total_bal_ex_mort</th>\n",
       "      <th>total_bc_limit</th>\n",
       "      <th>total_il_high_credit_limit</th>\n",
       "    </tr>\n",
       "  </thead>\n",
       "  <tbody>\n",
       "    <tr>\n",
       "      <th>130963</th>\n",
       "      <td>3105184</td>\n",
       "      <td>3777413.0</td>\n",
       "      <td>8325.0</td>\n",
       "      <td>8325.0</td>\n",
       "      <td>8325.0</td>\n",
       "      <td>36 months</td>\n",
       "      <td>18.75%</td>\n",
       "      <td>304.12</td>\n",
       "      <td>D</td>\n",
       "      <td>D3</td>\n",
       "      <td>...</td>\n",
       "      <td>0.0</td>\n",
       "      <td>3.0</td>\n",
       "      <td>86.0</td>\n",
       "      <td>25.0</td>\n",
       "      <td>0.0</td>\n",
       "      <td>0.0</td>\n",
       "      <td>16487.0</td>\n",
       "      <td>13231.0</td>\n",
       "      <td>4600.0</td>\n",
       "      <td>6887.0</td>\n",
       "    </tr>\n",
       "    <tr>\n",
       "      <th>2569</th>\n",
       "      <td>10126011</td>\n",
       "      <td>11978109.0</td>\n",
       "      <td>3000.0</td>\n",
       "      <td>3000.0</td>\n",
       "      <td>3000.0</td>\n",
       "      <td>36 months</td>\n",
       "      <td>13.98%</td>\n",
       "      <td>102.51</td>\n",
       "      <td>C</td>\n",
       "      <td>C1</td>\n",
       "      <td>...</td>\n",
       "      <td>0.0</td>\n",
       "      <td>2.0</td>\n",
       "      <td>90.9</td>\n",
       "      <td>0.0</td>\n",
       "      <td>0.0</td>\n",
       "      <td>0.0</td>\n",
       "      <td>440341.0</td>\n",
       "      <td>37228.0</td>\n",
       "      <td>10300.0</td>\n",
       "      <td>42541.0</td>\n",
       "    </tr>\n",
       "    <tr>\n",
       "      <th>67465</th>\n",
       "      <td>6515631</td>\n",
       "      <td>8067747.0</td>\n",
       "      <td>10000.0</td>\n",
       "      <td>10000.0</td>\n",
       "      <td>9950.0</td>\n",
       "      <td>36 months</td>\n",
       "      <td>7.90%</td>\n",
       "      <td>312.91</td>\n",
       "      <td>A</td>\n",
       "      <td>A4</td>\n",
       "      <td>...</td>\n",
       "      <td>0.0</td>\n",
       "      <td>0.0</td>\n",
       "      <td>100.0</td>\n",
       "      <td>20.0</td>\n",
       "      <td>0.0</td>\n",
       "      <td>0.0</td>\n",
       "      <td>13700.0</td>\n",
       "      <td>8573.0</td>\n",
       "      <td>13700.0</td>\n",
       "      <td>0.0</td>\n",
       "    </tr>\n",
       "  </tbody>\n",
       "</table>\n",
       "<p>3 rows × 115 columns</p>\n",
       "</div>"
      ],
      "text/plain": [
       "              id   member_id  loan_amnt  funded_amnt  funded_amnt_inv  \\\n",
       "130963   3105184   3777413.0     8325.0       8325.0           8325.0   \n",
       "2569    10126011  11978109.0     3000.0       3000.0           3000.0   \n",
       "67465    6515631   8067747.0    10000.0      10000.0           9950.0   \n",
       "\n",
       "              term int_rate  installment grade sub_grade  \\\n",
       "130963   36 months   18.75%       304.12     D        D3   \n",
       "2569     36 months   13.98%       102.51     C        C1   \n",
       "67465    36 months    7.90%       312.91     A        A4   \n",
       "\n",
       "                  ...             num_tl_90g_dpd_24m num_tl_op_past_12m  \\\n",
       "130963            ...                            0.0                3.0   \n",
       "2569              ...                            0.0                2.0   \n",
       "67465             ...                            0.0                0.0   \n",
       "\n",
       "       pct_tl_nvr_dlq  percent_bc_gt_75 pub_rec_bankruptcies tax_liens  \\\n",
       "130963           86.0              25.0                  0.0       0.0   \n",
       "2569             90.9               0.0                  0.0       0.0   \n",
       "67465           100.0              20.0                  0.0       0.0   \n",
       "\n",
       "       tot_hi_cred_lim total_bal_ex_mort total_bc_limit  \\\n",
       "130963         16487.0           13231.0         4600.0   \n",
       "2569          440341.0           37228.0        10300.0   \n",
       "67465          13700.0            8573.0        13700.0   \n",
       "\n",
       "       total_il_high_credit_limit  \n",
       "130963                     6887.0  \n",
       "2569                      42541.0  \n",
       "67465                         0.0  \n",
       "\n",
       "[3 rows x 115 columns]"
      ]
     },
     "execution_count": 11,
     "metadata": {},
     "output_type": "execute_result"
    }
   ],
   "source": [
    "raw_data.sample(3)\n"
   ]
  },
  {
   "cell_type": "code",
   "execution_count": 12,
   "metadata": {},
   "outputs": [
    {
     "data": {
      "text/plain": [
       "(188183, 115)"
      ]
     },
     "execution_count": 12,
     "metadata": {},
     "output_type": "execute_result"
    }
   ],
   "source": [
    "# Number of observations and features\n",
    "raw_data.shape\n"
   ]
  },
  {
   "cell_type": "code",
   "execution_count": 13,
   "metadata": {},
   "outputs": [
    {
     "data": {
      "text/plain": [
       "id                  object\n",
       "member_id          float64\n",
       "loan_amnt          float64\n",
       "funded_amnt        float64\n",
       "funded_amnt_inv    float64\n",
       "dtype: object"
      ]
     },
     "execution_count": 13,
     "metadata": {},
     "output_type": "execute_result"
    }
   ],
   "source": [
    "raw_data.dtypes.head()"
   ]
  },
  {
   "cell_type": "code",
   "execution_count": null,
   "metadata": {
    "collapsed": true
   },
   "outputs": [],
   "source": []
  },
  {
   "cell_type": "code",
   "execution_count": null,
   "metadata": {
    "collapsed": true
   },
   "outputs": [],
   "source": []
  },
  {
   "cell_type": "code",
   "execution_count": 14,
   "metadata": {
    "collapsed": true
   },
   "outputs": [],
   "source": [
    "#Remove columns with more than 80% missing values"
   ]
  },
  {
   "cell_type": "code",
   "execution_count": 15,
   "metadata": {},
   "outputs": [
    {
     "data": {
      "text/plain": [
       "(188183, 91)"
      ]
     },
     "execution_count": 15,
     "metadata": {},
     "output_type": "execute_result"
    }
   ],
   "source": [
    "#https://stackoverflow.com/questions/45515031/how-to-remove-columns-with-too-many-missing-values-in-python\n",
    "#df[df.columns[df.isnull().mean() < 0.8]].shape\n",
    "pct_null = raw_data.isnull().sum() / len(raw_data)\n",
    "pct_null\n",
    "missing_features = pct_null[pct_null > 0.50].index\n",
    "raw_data.drop(missing_features, axis=1, inplace=True)\n",
    "raw_data.shape"
   ]
  },
  {
   "cell_type": "code",
   "execution_count": 16,
   "metadata": {
    "collapsed": true
   },
   "outputs": [],
   "source": [
    "#List of Numerical Variables\n",
    "cols = raw_data.columns\n",
    "num_cols = raw_data._get_numeric_data().columns\n",
    "\n",
    "#List of categorical variables\n",
    "cat_cols=list(set(cols) - set(num_cols))"
   ]
  },
  {
   "cell_type": "code",
   "execution_count": 17,
   "metadata": {
    "collapsed": true
   },
   "outputs": [],
   "source": [
    "#raw_data.to_csv('C:\\\\Users\\\\soumya\\\\Documents\\\\MACHINE_LEARNING\\\\Ind_Project\\\\df2.csv')"
   ]
  },
  {
   "cell_type": "code",
   "execution_count": 18,
   "metadata": {
    "collapsed": true,
    "scrolled": true
   },
   "outputs": [],
   "source": [
    "#Data transformation to create meanfico\n",
    "raw_data['fico_range'] = raw_data.fico_range_low.astype('str') + '-' + raw_data.fico_range_high.astype('str')\n",
    "raw_data['meanfico'] = (raw_data.fico_range_low + raw_data.fico_range_high)/2\n",
    "\n",
    "raw_data['last_fico_range'] = raw_data.last_fico_range_low.astype('str') + '-' + raw_data.last_fico_range_high.astype('str')\n",
    "raw_data['mean_last_fico'] = (raw_data.last_fico_range_low + raw_data.last_fico_range_high)/2"
   ]
  },
  {
   "cell_type": "code",
   "execution_count": 19,
   "metadata": {
    "collapsed": true
   },
   "outputs": [],
   "source": [
    "#raw_data[cat_cols]"
   ]
  },
  {
   "cell_type": "code",
   "execution_count": 20,
   "metadata": {
    "collapsed": true
   },
   "outputs": [],
   "source": [
    "#Intuitive Feature Selection\n",
    "#List of Numerical Vars that don't seem relevant\n",
    "numLeakList = ['recoveries', 'collection_recovery_fee', 'last_fico_range_high', 'last_fico_range_low','fico_range_low','fico_range_high',\n",
    "               'total_rec_prncp', 'last_pymnt_amnt', 'total_pymnt', 'total_pymnt_inv', 'total_rec_late_fee', 'total_rec_int', \n",
    "               'num_tl_120dpd_2m','num_tl_30dpd', 'out_prncp', 'out_prncp_inv', 'next_pymnt_d']\n",
    "#List of Categorical Vars that don't seem relevant\n",
    "catLeakList = ['addr_state',  'earliest_cr_line', 'emp_title', 'id', 'initial_list_status', 'issue_d', \n",
    "               'last_credit_pull_d', 'last_pymnt_d', 'purpose', 'pymnt_plan', 'url' ]\n",
    "\n",
    "no_info_features=['application_type','policy_code','zip_code','desc','title','sub_grade','grade','mths_since_recent_inq',\n",
    "                 'mo_sin_old_rev_tl_op','mths_since_recent_bc','mo_sin_old_il_acct','mo_sin_rcnt_rev_tl_op','mo_sin_rcnt_tl']\n",
    "\n",
    "sel_list=list(set(list(raw_data.columns.values))-set(list(set(numLeakList)))-set(list(set(catLeakList)))-set(list(set(no_info_features))))\n"
   ]
  },
  {
   "cell_type": "code",
   "execution_count": 21,
   "metadata": {},
   "outputs": [
    {
     "data": {
      "text/plain": [
       "(188183, 56)"
      ]
     },
     "execution_count": 21,
     "metadata": {},
     "output_type": "execute_result"
    }
   ],
   "source": [
    "df_selected=raw_data[sel_list]\n",
    "df_selected.shape"
   ]
  },
  {
   "cell_type": "code",
   "execution_count": 22,
   "metadata": {
    "collapsed": true
   },
   "outputs": [],
   "source": [
    "#df_selected.columns"
   ]
  },
  {
   "cell_type": "code",
   "execution_count": 23,
   "metadata": {},
   "outputs": [
    {
     "name": "stdout",
     "output_type": "stream",
     "text": [
      "['Fully Paid' 'Current' 'Charged Off' 'Late (31-120 days)'\n",
      " 'In Grace Period' 'Late (16-30 days)' 'Default' nan]\n"
     ]
    },
    {
     "data": {
      "text/plain": [
       "(171483, 56)"
      ]
     },
     "execution_count": 23,
     "metadata": {},
     "output_type": "execute_result"
    }
   ],
   "source": [
    "#loan_status can be taken as the target\n",
    "print(df_selected['loan_status'].unique())\n",
    "#We are only interested in 'Current',Fully Paid', 'Charged Off', 'Default' loans\n",
    "df_filtered=df_selected[df_selected['loan_status'].isin(['Fully Paid', 'Charged Off', 'Default'])]\n",
    "df_filtered.shape"
   ]
  },
  {
   "cell_type": "code",
   "execution_count": 24,
   "metadata": {},
   "outputs": [
    {
     "name": "stderr",
     "output_type": "stream",
     "text": [
      "C:\\Users\\soumya\\Anaconda3\\anaconda\\lib\\site-packages\\ipykernel_launcher.py:2: SettingWithCopyWarning: \n",
      "A value is trying to be set on a copy of a slice from a DataFrame.\n",
      "Try using .loc[row_indexer,col_indexer] = value instead\n",
      "\n",
      "See the caveats in the documentation: http://pandas.pydata.org/pandas-docs/stable/indexing.html#indexing-view-versus-copy\n",
      "  \n"
     ]
    }
   ],
   "source": [
    "#Apply Transformation to loan_status , to convert to binary classification problem\n",
    "df_filtered['loan_status'] = df_filtered['loan_status'].apply(lambda x: 0 if x in  ['Fully Paid'] else 1)"
   ]
  },
  {
   "cell_type": "code",
   "execution_count": 25,
   "metadata": {},
   "outputs": [
    {
     "name": "stderr",
     "output_type": "stream",
     "text": [
      "C:\\Users\\soumya\\Anaconda3\\anaconda\\lib\\site-packages\\ipykernel_launcher.py:2: SettingWithCopyWarning: \n",
      "A value is trying to be set on a copy of a slice from a DataFrame.\n",
      "Try using .loc[row_indexer,col_indexer] = value instead\n",
      "\n",
      "See the caveats in the documentation: http://pandas.pydata.org/pandas-docs/stable/indexing.html#indexing-view-versus-copy\n",
      "  \n",
      "C:\\Users\\soumya\\Anaconda3\\anaconda\\lib\\site-packages\\ipykernel_launcher.py:3: SettingWithCopyWarning: \n",
      "A value is trying to be set on a copy of a slice from a DataFrame.\n",
      "Try using .loc[row_indexer,col_indexer] = value instead\n",
      "\n",
      "See the caveats in the documentation: http://pandas.pydata.org/pandas-docs/stable/indexing.html#indexing-view-versus-copy\n",
      "  This is separate from the ipykernel package so we can avoid doing imports until\n"
     ]
    }
   ],
   "source": [
    "#Apply Transformationto int_rate and revol_util- remove % symbol\n",
    "df_filtered['int_rate'] = pd.to_numeric(df_filtered['int_rate'].str.strip('%'), errors='coerce')\n",
    "df_filtered['revol_util'] = pd.to_numeric(df_filtered['revol_util'].str.strip('%'), errors='coerce')"
   ]
  },
  {
   "cell_type": "code",
   "execution_count": 26,
   "metadata": {
    "collapsed": true
   },
   "outputs": [],
   "source": [
    "#df_filtered.to_csv('C:\\\\Users\\\\soumya\\\\Documents\\\\MACHINE_LEARNING\\\\Ind_Project\\\\df_filtered.csv')\n"
   ]
  },
  {
   "cell_type": "code",
   "execution_count": 27,
   "metadata": {},
   "outputs": [
    {
     "name": "stderr",
     "output_type": "stream",
     "text": [
      "C:\\Users\\soumya\\Anaconda3\\anaconda\\lib\\site-packages\\ipykernel_launcher.py:6: SettingWithCopyWarning: \n",
      "A value is trying to be set on a copy of a slice from a DataFrame.\n",
      "Try using .loc[row_indexer,col_indexer] = value instead\n",
      "\n",
      "See the caveats in the documentation: http://pandas.pydata.org/pandas-docs/stable/indexing.html#indexing-view-versus-copy\n",
      "  \n"
     ]
    }
   ],
   "source": [
    "#Transform Object to Category\n",
    "change_obj_to_category(df_filtered)\n",
    "\n"
   ]
  },
  {
   "cell_type": "code",
   "execution_count": 28,
   "metadata": {},
   "outputs": [
    {
     "name": "stdout",
     "output_type": "stream",
     "text": [
      "['emp_length' 'fico_range' 'last_fico_range' 'term' 'verification_status'\n",
      " 'home_ownership']\n",
      "['int_rate' 'bc_util' 'num_tl_op_past_12m' 'mort_acc' 'revol_util'\n",
      " 'num_actv_rev_tl' 'acc_now_delinq' 'funded_amnt' 'tot_cur_bal'\n",
      " 'total_bal_ex_mort' 'num_op_rev_tl' 'open_acc' 'loan_status' 'member_id'\n",
      " 'num_rev_tl_bal_gt_0' 'annual_inc' 'collections_12_mths_ex_med'\n",
      " 'num_il_tl' 'num_bc_sats' 'acc_open_past_24mths' 'pub_rec_bankruptcies'\n",
      " 'num_actv_bc_tl' 'num_tl_90g_dpd_24m' 'delinq_amnt' 'delinq_2yrs'\n",
      " 'pct_tl_nvr_dlq' 'total_bc_limit' 'percent_bc_gt_75' 'meanfico'\n",
      " 'bc_open_to_buy' 'tot_hi_cred_lim' 'total_acc' 'dti'\n",
      " 'chargeoff_within_12_mths' 'funded_amnt_inv' 'mean_last_fico'\n",
      " 'num_rev_accts' 'avg_cur_bal' 'pub_rec' 'num_sats' 'total_rev_hi_lim'\n",
      " 'inq_last_6mths' 'total_il_high_credit_limit' 'num_accts_ever_120_pd'\n",
      " 'loan_amnt' 'num_bc_tl' 'revol_bal' 'tax_liens' 'installment'\n",
      " 'tot_coll_amt']\n"
     ]
    }
   ],
   "source": [
    "from sklearn import preprocessing\n",
    "\n",
    "categorical = df_filtered.select_dtypes(include=['category'])\n",
    "numeric = df_filtered.select_dtypes(exclude=['category'])\n",
    "\n",
    "print(categorical.columns.values)\n",
    "print(numeric.columns.values)"
   ]
  },
  {
   "cell_type": "code",
   "execution_count": 29,
   "metadata": {},
   "outputs": [
    {
     "name": "stderr",
     "output_type": "stream",
     "text": [
      "C:\\Users\\soumya\\Anaconda3\\anaconda\\lib\\site-packages\\pandas\\core\\frame.py:2352: SettingWithCopyWarning: \n",
      "A value is trying to be set on a copy of a slice from a DataFrame.\n",
      "Try using .loc[row_indexer,col_indexer] = value instead\n",
      "\n",
      "See the caveats in the documentation: http://pandas.pydata.org/pandas-docs/stable/indexing.html#indexing-view-versus-copy\n",
      "  self[k1] = value[k2]\n"
     ]
    }
   ],
   "source": [
    "#Imputation on data- mode for categorical values and mean for numeric variables\n",
    "categorical_columns=categorical.columns.values\n",
    "numeric_columns=numeric.columns.values\n",
    "\n",
    "df_filtered[categorical_columns] = df_filtered[categorical_columns].apply(lambda x:x.fillna(x.value_counts().index[0]))\n",
    "df_filtered[numeric_columns] = df_filtered[numeric_columns].fillna(df_filtered[numeric_columns].mean())\n"
   ]
  },
  {
   "cell_type": "code",
   "execution_count": 30,
   "metadata": {},
   "outputs": [
    {
     "name": "stdout",
     "output_type": "stream",
     "text": [
      "Missing values before imputation:\n",
      "59968\n",
      "Missing values after imputation:\n",
      "0\n"
     ]
    }
   ],
   "source": [
    "print('Missing values before imputation:')\n",
    "print(sum(raw_data.apply(lambda x: sum(x.isnull().values), axis = 1)>0))\n",
    "print('Missing values after imputation:')\n",
    "print(sum(df_filtered.apply(lambda x: sum(x.isnull().values), axis = 1)>0))"
   ]
  },
  {
   "cell_type": "code",
   "execution_count": 31,
   "metadata": {},
   "outputs": [
    {
     "data": {
      "text/plain": [
       "<matplotlib.axes._subplots.AxesSubplot at 0x1d1ef006080>"
      ]
     },
     "execution_count": 31,
     "metadata": {},
     "output_type": "execute_result"
    },
    {
     "data": {
      "image/png": "[encoded data removed]",
      "text/plain": [
       "<matplotlib.figure.Figure at 0x1d1f576b438>"
      ]
     },
     "metadata": {},
     "output_type": "display_data"
    }
   ],
   "source": [
    "sns.countplot(x=df_filtered['loan_status'],data = df_filtered)\n"
   ]
  },
  {
   "cell_type": "code",
   "execution_count": 32,
   "metadata": {},
   "outputs": [
    {
     "data": {
      "text/plain": [
       "Counter({0: 143919, 1: 27564})"
      ]
     },
     "execution_count": 32,
     "metadata": {},
     "output_type": "execute_result"
    }
   ],
   "source": [
    "from collections import Counter\n",
    "Counter(df_filtered['loan_status'])\n",
    "\n"
   ]
  },
  {
   "cell_type": "code",
   "execution_count": 33,
   "metadata": {},
   "outputs": [
    {
     "name": "stdout",
     "output_type": "stream",
     "text": [
      "int64\n"
     ]
    },
    {
     "name": "stderr",
     "output_type": "stream",
     "text": [
      "C:\\Users\\soumya\\Anaconda3\\anaconda\\lib\\site-packages\\pandas\\core\\generic.py:3110: SettingWithCopyWarning: \n",
      "A value is trying to be set on a copy of a slice from a DataFrame.\n",
      "Try using .loc[row_indexer,col_indexer] = value instead\n",
      "\n",
      "See the caveats in the documentation: http://pandas.pydata.org/pandas-docs/stable/indexing.html#indexing-view-versus-copy\n",
      "  self[name] = value\n"
     ]
    }
   ],
   "source": [
    "print(df_filtered['loan_status'].dtype)\n",
    "df_filtered.loan_status = df_filtered.loan_status.astype('category')\n"
   ]
  },
  {
   "cell_type": "code",
   "execution_count": 34,
   "metadata": {},
   "outputs": [
    {
     "name": "stdout",
     "output_type": "stream",
     "text": [
      "The categorical columns are :\n",
      "['emp_length' 'fico_range' 'last_fico_range' 'term' 'verification_status'\n",
      " 'home_ownership']\n",
      "The numeric columns are :\n",
      "['int_rate' 'bc_util' 'num_tl_op_past_12m' 'mort_acc' 'revol_util'\n",
      " 'num_actv_rev_tl' 'acc_now_delinq' 'funded_amnt' 'tot_cur_bal'\n",
      " 'total_bal_ex_mort' 'num_op_rev_tl' 'open_acc' 'loan_status' 'member_id'\n",
      " 'num_rev_tl_bal_gt_0' 'annual_inc' 'collections_12_mths_ex_med'\n",
      " 'num_il_tl' 'num_bc_sats' 'acc_open_past_24mths' 'pub_rec_bankruptcies'\n",
      " 'num_actv_bc_tl' 'num_tl_90g_dpd_24m' 'delinq_amnt' 'delinq_2yrs'\n",
      " 'pct_tl_nvr_dlq' 'total_bc_limit' 'percent_bc_gt_75' 'meanfico'\n",
      " 'bc_open_to_buy' 'tot_hi_cred_lim' 'total_acc' 'dti'\n",
      " 'chargeoff_within_12_mths' 'funded_amnt_inv' 'mean_last_fico'\n",
      " 'num_rev_accts' 'avg_cur_bal' 'pub_rec' 'num_sats' 'total_rev_hi_lim'\n",
      " 'inq_last_6mths' 'total_il_high_credit_limit' 'num_accts_ever_120_pd'\n",
      " 'loan_amnt' 'num_bc_tl' 'revol_bal' 'tax_liens' 'installment'\n",
      " 'tot_coll_amt']\n"
     ]
    }
   ],
   "source": [
    "print('The categorical columns are :')\n",
    "print(categorical_columns)\n",
    "print('The numeric columns are :')\n",
    "print(numeric_columns)"
   ]
  },
  {
   "cell_type": "code",
   "execution_count": 35,
   "metadata": {},
   "outputs": [
    {
     "name": "stdout",
     "output_type": "stream",
     "text": [
      "(171483, 56)\n"
     ]
    }
   ],
   "source": [
    "print(df_filtered.shape)"
   ]
  },
  {
   "cell_type": "code",
   "execution_count": 36,
   "metadata": {},
   "outputs": [
    {
     "name": "stdout",
     "output_type": "stream",
     "text": [
      "Below are the correlated features:\n",
      "revol_util                  bc_util                 0.811601\n",
      "num_op_rev_tl               num_actv_rev_tl         0.791787\n",
      "open_acc                    num_actv_rev_tl         0.591376\n",
      "                            num_op_rev_tl           0.756255\n",
      "num_rev_tl_bal_gt_0         num_actv_rev_tl         0.998466\n",
      "                            num_op_rev_tl           0.793020\n",
      "                            open_acc                0.592352\n",
      "num_bc_sats                 num_actv_rev_tl         0.625006\n",
      "                            num_op_rev_tl           0.724997\n",
      "                            open_acc                0.581358\n",
      "                            num_rev_tl_bal_gt_0     0.625225\n",
      "acc_open_past_24mths        num_tl_op_past_12m      0.663965\n",
      "num_actv_bc_tl              num_actv_rev_tl         0.791784\n",
      "                            num_op_rev_tl           0.634812\n",
      "                            num_rev_tl_bal_gt_0     0.790220\n",
      "                            num_bc_sats             0.821002\n",
      "delinq_2yrs                 num_tl_90g_dpd_24m      0.584329\n",
      "percent_bc_gt_75            bc_util                 0.831554\n",
      "                            revol_util              0.681736\n",
      "meanfico                    int_rate               -0.570514\n",
      "bc_open_to_buy              bc_util                -0.587500\n",
      "                            total_bc_limit          0.843038\n",
      "tot_hi_cred_lim             tot_cur_bal             0.983906\n",
      "total_acc                   open_acc                0.665290\n",
      "                            num_il_tl               0.618576\n",
      "funded_amnt_inv             funded_amnt             0.999857\n",
      "num_rev_accts               num_op_rev_tl           0.728521\n",
      "                            open_acc                0.564040\n",
      "                            total_acc               0.706058\n",
      "avg_cur_bal                 tot_cur_bal             0.850505\n",
      "                            tot_hi_cred_lim         0.822250\n",
      "pub_rec                     pub_rec_bankruptcies    0.758691\n",
      "num_sats                    num_actv_rev_tl         0.618026\n",
      "                            num_op_rev_tl           0.789128\n",
      "                            open_acc                0.957798\n",
      "                            num_rev_tl_bal_gt_0     0.619077\n",
      "                            num_bc_sats             0.607522\n",
      "                            total_acc               0.632500\n",
      "                            num_rev_accts           0.585968\n",
      "total_il_high_credit_limit  total_bal_ex_mort       0.802268\n",
      "                            num_il_tl               0.606696\n",
      "num_accts_ever_120_pd       pct_tl_nvr_dlq         -0.551966\n",
      "loan_amnt                   funded_amnt             0.999783\n",
      "                            funded_amnt_inv         0.999629\n",
      "num_bc_tl                   num_op_rev_tl           0.563685\n",
      "                            num_bc_sats             0.633721\n",
      "                            total_acc               0.587565\n",
      "                            num_rev_accts           0.852434\n",
      "revol_bal                   total_rev_hi_lim        0.773439\n",
      "tax_liens                   pub_rec                 0.648330\n",
      "installment                 funded_amnt             0.963520\n",
      "                            funded_amnt_inv         0.963467\n",
      "                            loan_amnt               0.963243\n",
      "dtype: float64\n"
     ]
    }
   ],
   "source": [
    "#check and print the correlation\n",
    "#examine the correlation matrix and drop highly correlated/redundant data to address multicollinearity\n",
    "cor = df_filtered.corr()\n",
    "cor.loc[:,:] = np.tril(cor, k=-1) \n",
    "cor = cor.stack()\n",
    "print('Below are the correlated features:')\n",
    "print(cor[(cor > 0.55) | (cor < -0.55)])"
   ]
  },
  {
   "cell_type": "code",
   "execution_count": 37,
   "metadata": {},
   "outputs": [
    {
     "name": "stdout",
     "output_type": "stream",
     "text": [
      "(171483, 33)\n"
     ]
    },
    {
     "name": "stderr",
     "output_type": "stream",
     "text": [
      "C:\\Users\\soumya\\Anaconda3\\anaconda\\lib\\site-packages\\ipykernel_launcher.py:6: SettingWithCopyWarning: \n",
      "A value is trying to be set on a copy of a slice from a DataFrame\n",
      "\n",
      "See the caveats in the documentation: http://pandas.pydata.org/pandas-docs/stable/indexing.html#indexing-view-versus-copy\n",
      "  \n"
     ]
    }
   ],
   "source": [
    "#Drop correlated variables\n",
    "df_filtered.drop(['bc_util','num_bc_sats','num_bc_tl','total_acc','acc_open_past_24mths','num_il_tl',\n",
    "          'num_op_rev_tl','delinq_2yrs','total_il_high_credit_limit','revol_bal','num_actv_bc_tl','num_accts_ever_120_pd'\n",
    "          ,'tax_liens','avg_cur_bal','funded_amnt','installment','tot_hi_cred_lim'\n",
    "          ,'num_rev_tl_bal_gt_0','int_rate','pub_rec_bankruptcies','num_rev_accts','open_acc'\n",
    "          ,'bc_open_to_buy' ], axis=1, inplace=True)\n",
    "#df_filtered=df_filtered[exc_list]\n",
    "print(df_filtered.shape)"
   ]
  },
  {
   "cell_type": "code",
   "execution_count": 38,
   "metadata": {},
   "outputs": [
    {
     "data": {
      "text/plain": [
       "array(['emp_length', 'num_tl_op_past_12m', 'mort_acc', 'revol_util',\n",
       "       'num_actv_rev_tl', 'acc_now_delinq', 'tot_cur_bal',\n",
       "       'total_bal_ex_mort', 'loan_status', 'member_id', 'fico_range',\n",
       "       'annual_inc', 'last_fico_range', 'collections_12_mths_ex_med',\n",
       "       'num_tl_90g_dpd_24m', 'delinq_amnt', 'pct_tl_nvr_dlq',\n",
       "       'total_bc_limit', 'percent_bc_gt_75', 'meanfico', 'term',\n",
       "       'verification_status', 'dti', 'chargeoff_within_12_mths',\n",
       "       'funded_amnt_inv', 'mean_last_fico', 'home_ownership', 'pub_rec',\n",
       "       'num_sats', 'total_rev_hi_lim', 'inq_last_6mths', 'loan_amnt',\n",
       "       'tot_coll_amt'], dtype=object)"
      ]
     },
     "execution_count": 38,
     "metadata": {},
     "output_type": "execute_result"
    }
   ],
   "source": [
    "df_filtered.columns.values"
   ]
  },
  {
   "cell_type": "code",
   "execution_count": 39,
   "metadata": {},
   "outputs": [
    {
     "name": "stderr",
     "output_type": "stream",
     "text": [
      "C:\\Users\\soumya\\Anaconda3\\anaconda\\lib\\site-packages\\ipykernel_launcher.py:2: SettingWithCopyWarning: \n",
      "A value is trying to be set on a copy of a slice from a DataFrame\n",
      "\n",
      "See the caveats in the documentation: http://pandas.pydata.org/pandas-docs/stable/indexing.html#indexing-view-versus-copy\n",
      "  \n"
     ]
    }
   ],
   "source": [
    "categorical = df_filtered.select_dtypes(include=['category'])\n",
    "categorical.drop(['fico_range','last_fico_range','loan_status'], axis=1, inplace=True)\n",
    "numeric = df_filtered.select_dtypes(exclude=['category'])"
   ]
  },
  {
   "cell_type": "code",
   "execution_count": 40,
   "metadata": {},
   "outputs": [
    {
     "name": "stdout",
     "output_type": "stream",
     "text": [
      "['emp_length' 'term' 'verification_status' 'home_ownership']\n"
     ]
    }
   ],
   "source": [
    "print(categorical.columns.values)"
   ]
  },
  {
   "cell_type": "code",
   "execution_count": 41,
   "metadata": {},
   "outputs": [
    {
     "name": "stdout",
     "output_type": "stream",
     "text": [
      "(171483, 51)\n"
     ]
    }
   ],
   "source": [
    "#Convert Categorical Variables into dummy variables\n",
    "df_with_dummy_var = pd.get_dummies(df_filtered,columns=categorical.columns.values)\n",
    "print(df_with_dummy_var.shape)"
   ]
  },
  {
   "cell_type": "code",
   "execution_count": 42,
   "metadata": {},
   "outputs": [
    {
     "data": {
      "text/plain": [
       "array(['num_tl_op_past_12m', 'mort_acc', 'revol_util', 'num_actv_rev_tl',\n",
       "       'acc_now_delinq', 'tot_cur_bal', 'total_bal_ex_mort', 'loan_status',\n",
       "       'member_id', 'fico_range', 'annual_inc', 'last_fico_range',\n",
       "       'collections_12_mths_ex_med', 'num_tl_90g_dpd_24m', 'delinq_amnt',\n",
       "       'pct_tl_nvr_dlq', 'total_bc_limit', 'percent_bc_gt_75', 'meanfico',\n",
       "       'dti', 'chargeoff_within_12_mths', 'funded_amnt_inv',\n",
       "       'mean_last_fico', 'pub_rec', 'num_sats', 'total_rev_hi_lim',\n",
       "       'inq_last_6mths', 'loan_amnt', 'tot_coll_amt', 'emp_length_1 year',\n",
       "       'emp_length_10+ years', 'emp_length_2 years', 'emp_length_3 years',\n",
       "       'emp_length_4 years', 'emp_length_5 years', 'emp_length_6 years',\n",
       "       'emp_length_7 years', 'emp_length_8 years', 'emp_length_9 years',\n",
       "       'emp_length_< 1 year', 'emp_length_n/a', 'term_ 36 months',\n",
       "       'term_ 60 months', 'verification_status_Not Verified',\n",
       "       'verification_status_Source Verified',\n",
       "       'verification_status_Verified', 'home_ownership_MORTGAGE',\n",
       "       'home_ownership_NONE', 'home_ownership_OTHER', 'home_ownership_OWN',\n",
       "       'home_ownership_RENT'], dtype=object)"
      ]
     },
     "execution_count": 42,
     "metadata": {},
     "output_type": "execute_result"
    }
   ],
   "source": [
    "df_with_dummy_var.columns.values"
   ]
  },
  {
   "cell_type": "code",
   "execution_count": 43,
   "metadata": {
    "collapsed": true
   },
   "outputs": [],
   "source": [
    "df_with_dummy_var.to_csv('C:\\\\Users\\\\soumya\\\\Documents\\\\MACHINE_LEARNING\\\\Ind_Project\\\\df_with_dummy_var.csv')\n",
    "df_filtered.to_csv('C:\\\\Users\\\\soumya\\\\Documents\\\\MACHINE_LEARNING\\\\Ind_Project\\\\df_filtered.csv')"
   ]
  },
  {
   "cell_type": "code",
   "execution_count": 44,
   "metadata": {
    "collapsed": true
   },
   "outputs": [],
   "source": [
    "def generateXY(df,target_col,var_list):\n",
    "    \n",
    "    X=df[varToUse]\n",
    "    y=df[target_col]\n",
    "    return X,y\n"
   ]
  },
  {
   "cell_type": "code",
   "execution_count": null,
   "metadata": {
    "collapsed": true
   },
   "outputs": [],
   "source": []
  },
  {
   "cell_type": "code",
   "execution_count": 45,
   "metadata": {
    "collapsed": true
   },
   "outputs": [],
   "source": [
    "#Data Splitting\n",
    "from sklearn.model_selection import train_test_split\n",
    "train, test = train_test_split(df_with_dummy_var, test_size=0.2)"
   ]
  },
  {
   "cell_type": "code",
   "execution_count": 46,
   "metadata": {
    "collapsed": true
   },
   "outputs": [],
   "source": [
    "#Indeppendent and Dependent features\n",
    "target_col='loan_status'\n",
    "varToUse=df_with_dummy_var.columns.tolist()\n",
    "varToUse.remove('loan_status')\n",
    "varToUse.remove('last_fico_range')\n",
    "varToUse.remove('fico_range')\n",
    "\n",
    "Train_X,Train_Y = generateXY(train,target_col,varToUse)\n",
    "Test_X,Test_Y = generateXY(test,target_col,varToUse)"
   ]
  },
  {
   "cell_type": "code",
   "execution_count": 47,
   "metadata": {},
   "outputs": [
    {
     "name": "stdout",
     "output_type": "stream",
     "text": [
      "loan_status\n",
      "['num_tl_op_past_12m', 'mort_acc', 'revol_util', 'num_actv_rev_tl', 'acc_now_delinq', 'tot_cur_bal', 'total_bal_ex_mort', 'member_id', 'annual_inc', 'collections_12_mths_ex_med', 'num_tl_90g_dpd_24m', 'delinq_amnt', 'pct_tl_nvr_dlq', 'total_bc_limit', 'percent_bc_gt_75', 'meanfico', 'dti', 'chargeoff_within_12_mths', 'funded_amnt_inv', 'mean_last_fico', 'pub_rec', 'num_sats', 'total_rev_hi_lim', 'inq_last_6mths', 'loan_amnt', 'tot_coll_amt', 'emp_length_1 year', 'emp_length_10+ years', 'emp_length_2 years', 'emp_length_3 years', 'emp_length_4 years', 'emp_length_5 years', 'emp_length_6 years', 'emp_length_7 years', 'emp_length_8 years', 'emp_length_9 years', 'emp_length_< 1 year', 'emp_length_n/a', 'term_ 36 months', 'term_ 60 months', 'verification_status_Not Verified', 'verification_status_Source Verified', 'verification_status_Verified', 'home_ownership_MORTGAGE', 'home_ownership_NONE', 'home_ownership_OTHER', 'home_ownership_OWN', 'home_ownership_RENT']\n"
     ]
    }
   ],
   "source": [
    "print(target_col)\n",
    "print(varToUse)"
   ]
  },
  {
   "cell_type": "code",
   "execution_count": 48,
   "metadata": {},
   "outputs": [
    {
     "name": "stdout",
     "output_type": "stream",
     "text": [
      "(137186, 48)\n",
      "(137186,)\n",
      "(34297, 48)\n",
      "(34297,)\n"
     ]
    }
   ],
   "source": [
    "print(Train_X.shape)\n",
    "print(Train_Y.shape)\n",
    "print(Test_X.shape)\n",
    "print(Test_Y.shape)"
   ]
  },
  {
   "cell_type": "code",
   "execution_count": 49,
   "metadata": {},
   "outputs": [
    {
     "name": "stdout",
     "output_type": "stream",
     "text": [
      "Model: Gaussian Naive Bayes\n",
      "Train Precision = 0.6415106941357569\n",
      "Train Recall = 0.6415106941357569\n",
      "Train F1 Score  = 0.4927749595218754\n",
      "Accuracy score  = 0.866597256754264\n"
     ]
    }
   ],
   "source": [
    "print (\"Model: Gaussian Naive Bayes\")\n",
    "nb = GaussianNB() \n",
    "#kf = KFold( n_splits=10, shuffle=True, random_state=0)\n",
    "\n",
    "precision_nb = cross_val_score(nb, Train_X, Train_Y, cv=10, scoring='precision')\n",
    "print (\"Train Precision = {}\".format(precision_nb.mean()))\n",
    "recall_nb = cross_val_score(nb, Train_X, Train_Y, cv=10, scoring='recall')\n",
    "print (\"Train Recall = {}\".format(precision_nb.mean()))\n",
    "f1score_nb = cross_val_score(nb, Train_X, Train_Y, cv=10, scoring='f1')\n",
    "print (\"Train F1 Score  = {}\".format(f1score_nb.mean()))\n",
    "accscore_nb = cross_val_score(nb, Train_X, Train_Y, cv=10, scoring='accuracy', n_jobs=-1)\n",
    "print (\"Accuracy score  = {}\".format(accscore_nb.mean()))\n"
   ]
  },
  {
   "cell_type": "code",
   "execution_count": 50,
   "metadata": {},
   "outputs": [
    {
     "data": {
      "text/plain": [
       "GaussianNB(priors=None)"
      ]
     },
     "execution_count": 50,
     "metadata": {},
     "output_type": "execute_result"
    }
   ],
   "source": [
    "nb.fit(X=Train_X,y=Train_Y)"
   ]
  },
  {
   "cell_type": "code",
   "execution_count": 51,
   "metadata": {
    "collapsed": true
   },
   "outputs": [],
   "source": [
    "y_pred_nb=nb.predict(Test_X)"
   ]
  },
  {
   "cell_type": "code",
   "execution_count": 52,
   "metadata": {
    "collapsed": true
   },
   "outputs": [],
   "source": [
    "nb_report=sklearn.metrics.classification_report(Test_Y,y_pred_nb)"
   ]
  },
  {
   "cell_type": "code",
   "execution_count": 53,
   "metadata": {},
   "outputs": [
    {
     "name": "stdout",
     "output_type": "stream",
     "text": [
      "             precision    recall  f1-score   support\n",
      "\n",
      "          0       0.89      0.96      0.92     28807\n",
      "          1       0.64      0.41      0.50      5490\n",
      "\n",
      "avg / total       0.85      0.87      0.86     34297\n",
      "\n",
      "confusion matrix\n",
      "[[27556  1251]\n",
      " [ 3240  2250]]\n",
      "accuracy score\n",
      "0.869055602531\n"
     ]
    }
   ],
   "source": [
    "print(nb_report)\n",
    "print(\"confusion matrix\")\n",
    "print(confusion_matrix(Test_Y, y_pred_nb))\n",
    "print(\"accuracy score\")\n",
    "print(accuracy_score(Test_Y, y_pred_nb, normalize=True, sample_weight=None))"
   ]
  },
  {
   "cell_type": "code",
   "execution_count": 54,
   "metadata": {},
   "outputs": [
    {
     "name": "stdout",
     "output_type": "stream",
     "text": [
      "Model: Logistic Regression\n",
      "Precision = 0.7984215006763772\n",
      "Recall    = 0.07629009393694634\n",
      "F1 score  = 0.1323026224140645\n",
      "Accuracy score  = 0.8487528315586225\n"
     ]
    }
   ],
   "source": [
    "print (\"Model: Logistic Regression\")\n",
    "lr = LogisticRegression()\n",
    "\n",
    "precision_lr = cross_val_score(lr, Train_X, Train_Y, cv=10, scoring='precision', n_jobs=-1)\n",
    "print (\"Precision = {}\".format(precision_lr.mean()))\n",
    "recall_lr = cross_val_score(lr, Train_X, Train_Y, cv=10, scoring='recall', n_jobs=-1)\n",
    "print (\"Recall    = {}\".format(recall_lr.mean()))\n",
    "f1score_lr = cross_val_score(lr, Train_X, Train_Y, cv=10, scoring='f1', n_jobs=-1)\n",
    "print (\"F1 score  = {}\".format(f1score_lr.mean()))\n",
    "accscore_lr = cross_val_score(lr, Train_X, Train_Y, cv=10, scoring='accuracy', n_jobs=-1)\n",
    "print (\"Accuracy score  = {}\".format(accscore_lr.mean()))"
   ]
  },
  {
   "cell_type": "code",
   "execution_count": 55,
   "metadata": {},
   "outputs": [
    {
     "data": {
      "text/plain": [
       "LogisticRegression(C=1.0, class_weight=None, dual=False, fit_intercept=True,\n",
       "          intercept_scaling=1, max_iter=100, multi_class='ovr', n_jobs=1,\n",
       "          penalty='l2', random_state=None, solver='liblinear', tol=0.0001,\n",
       "          verbose=0, warm_start=False)"
      ]
     },
     "execution_count": 55,
     "metadata": {},
     "output_type": "execute_result"
    }
   ],
   "source": [
    "lr.fit(X=Train_X,y=Train_Y)"
   ]
  },
  {
   "cell_type": "code",
   "execution_count": 56,
   "metadata": {
    "collapsed": true
   },
   "outputs": [],
   "source": [
    "y_pred_lr=lr.predict(Test_X)"
   ]
  },
  {
   "cell_type": "code",
   "execution_count": 57,
   "metadata": {
    "collapsed": true
   },
   "outputs": [],
   "source": [
    "lr_report=sklearn.metrics.classification_report(Test_Y,y_pred_lr)"
   ]
  },
  {
   "cell_type": "code",
   "execution_count": 58,
   "metadata": {},
   "outputs": [
    {
     "name": "stdout",
     "output_type": "stream",
     "text": [
      "             precision    recall  f1-score   support\n",
      "\n",
      "          0       0.85      0.99      0.92     28807\n",
      "          1       0.81      0.11      0.20      5490\n",
      "\n",
      "avg / total       0.85      0.85      0.80     34297\n",
      "\n",
      "confusion matrix\n",
      "[[28662   145]\n",
      " [ 4877   613]]\n",
      "accuracy score\n",
      "0.853573198822\n"
     ]
    }
   ],
   "source": [
    "print(lr_report)\n",
    "print(\"confusion matrix\")\n",
    "print(confusion_matrix(Test_Y, y_pred_lr))\n",
    "print(\"accuracy score\")\n",
    "print(accuracy_score(Test_Y, y_pred_lr, normalize=True, sample_weight=None))"
   ]
  },
  {
   "cell_type": "code",
   "execution_count": 59,
   "metadata": {},
   "outputs": [
    {
     "name": "stdout",
     "output_type": "stream",
     "text": [
      "Model: KNeighborsClassifier\n",
      "Precision = 0.19288100131610608\n",
      "Recall    = 0.08693507729030818\n",
      "F1 score  = 0.11981333077807788\n",
      "Accuracy score  = 0.7945125503882973\n"
     ]
    }
   ],
   "source": [
    "print (\"Model: KNeighborsClassifier\")\n",
    "neigh = KNeighborsClassifier(n_neighbors=3)\n",
    "\n",
    "precision_neigh = cross_val_score(neigh, Train_X, Train_Y, cv=10, scoring='precision', n_jobs=-1)\n",
    "print (\"Precision = {}\".format(precision_neigh.mean()))\n",
    "recall_neigh = cross_val_score(neigh, Train_X, Train_Y, cv=10, scoring='recall', n_jobs=-1)\n",
    "print (\"Recall    = {}\".format(recall_neigh.mean()))\n",
    "f1score_neigh = cross_val_score(neigh, Train_X, Train_Y, cv=10, scoring='f1', n_jobs=-1)\n",
    "print (\"F1 score  = {}\".format(f1score_neigh.mean()))\n",
    "accscore_neigh = cross_val_score(neigh, Train_X, Train_Y, cv=10, scoring='accuracy', n_jobs=-1)\n",
    "print (\"Accuracy score  = {}\".format(accscore_neigh.mean()))"
   ]
  },
  {
   "cell_type": "code",
   "execution_count": 60,
   "metadata": {},
   "outputs": [
    {
     "data": {
      "text/plain": [
       "KNeighborsClassifier(algorithm='auto', leaf_size=30, metric='minkowski',\n",
       "           metric_params=None, n_jobs=1, n_neighbors=3, p=2,\n",
       "           weights='uniform')"
      ]
     },
     "execution_count": 60,
     "metadata": {},
     "output_type": "execute_result"
    }
   ],
   "source": [
    "neigh.fit(X=Train_X,y=Train_Y) "
   ]
  },
  {
   "cell_type": "code",
   "execution_count": 61,
   "metadata": {
    "collapsed": true
   },
   "outputs": [],
   "source": [
    "y_pred_neigh=neigh.predict(Test_X)"
   ]
  },
  {
   "cell_type": "code",
   "execution_count": 62,
   "metadata": {
    "collapsed": true
   },
   "outputs": [],
   "source": [
    "neigh_report=sklearn.metrics.classification_report(Test_Y,y_pred_neigh)"
   ]
  },
  {
   "cell_type": "code",
   "execution_count": 63,
   "metadata": {},
   "outputs": [
    {
     "name": "stdout",
     "output_type": "stream",
     "text": [
      "             precision    recall  f1-score   support\n",
      "\n",
      "          0       0.84      0.93      0.89     28807\n",
      "          1       0.21      0.09      0.13      5490\n",
      "\n",
      "avg / total       0.74      0.80      0.76     34297\n",
      "\n",
      "confusion matrix\n",
      "[[26853  1954]\n",
      " [ 4984   506]]\n",
      "accuracy score\n",
      "0.797708254366\n"
     ]
    }
   ],
   "source": [
    "print(neigh_report)\n",
    "print(\"confusion matrix\")\n",
    "print(confusion_matrix(Test_Y, y_pred_neigh))\n",
    "print(\"accuracy score\")\n",
    "print(accuracy_score(Test_Y, y_pred_neigh, normalize=True, sample_weight=None))"
   ]
  },
  {
   "cell_type": "code",
   "execution_count": 64,
   "metadata": {},
   "outputs": [
    {
     "name": "stdout",
     "output_type": "stream",
     "text": [
      "Model: DecisionTreeClassifier\n",
      "Precision = 0.5652390545610217\n",
      "Recall    = 0.5721652080337267\n",
      "F1 score  = 0.5686278382343237\n",
      "Accuracy score  = 0.8603500429947604\n"
     ]
    }
   ],
   "source": [
    "print (\"Model: DecisionTreeClassifier\")\n",
    "dt = DecisionTreeClassifier(random_state=0)\n",
    "\n",
    "precision_dt = cross_val_score(dt, Train_X, Train_Y, cv=10, scoring='precision', n_jobs=-1)\n",
    "print (\"Precision = {}\".format(precision_dt.mean()))\n",
    "recall_dt = cross_val_score(dt, Train_X, Train_Y, cv=10, scoring='recall', n_jobs=-1)\n",
    "print (\"Recall    = {}\".format(recall_dt.mean()))\n",
    "f1score_dt = cross_val_score(dt, Train_X, Train_Y, cv=10, scoring='f1', n_jobs=-1)\n",
    "print (\"F1 score  = {}\".format(f1score_dt.mean()))\n",
    "accscore_dt = cross_val_score(dt, Train_X, Train_Y, cv=10, scoring='accuracy', n_jobs=-1)\n",
    "print (\"Accuracy score  = {}\".format(accscore_dt.mean()))"
   ]
  },
  {
   "cell_type": "code",
   "execution_count": 65,
   "metadata": {},
   "outputs": [
    {
     "data": {
      "text/plain": [
       "DecisionTreeClassifier(class_weight=None, criterion='gini', max_depth=None,\n",
       "            max_features=None, max_leaf_nodes=None,\n",
       "            min_impurity_decrease=0.0, min_impurity_split=None,\n",
       "            min_samples_leaf=1, min_samples_split=2,\n",
       "            min_weight_fraction_leaf=0.0, presort=False, random_state=0,\n",
       "            splitter='best')"
      ]
     },
     "execution_count": 65,
     "metadata": {},
     "output_type": "execute_result"
    }
   ],
   "source": [
    "dt.fit(X=Train_X,y=Train_Y) "
   ]
  },
  {
   "cell_type": "code",
   "execution_count": 66,
   "metadata": {
    "collapsed": true
   },
   "outputs": [],
   "source": [
    "y_pred_dt=dt.predict(Test_X)"
   ]
  },
  {
   "cell_type": "code",
   "execution_count": 67,
   "metadata": {
    "collapsed": true
   },
   "outputs": [],
   "source": [
    "dt_report=sklearn.metrics.classification_report(Test_Y,y_pred_dt)"
   ]
  },
  {
   "cell_type": "code",
   "execution_count": 68,
   "metadata": {},
   "outputs": [
    {
     "name": "stdout",
     "output_type": "stream",
     "text": [
      "             precision    recall  f1-score   support\n",
      "\n",
      "          0       0.92      0.92      0.92     28807\n",
      "          1       0.56      0.57      0.57      5490\n",
      "\n",
      "avg / total       0.86      0.86      0.86     34297\n",
      "\n",
      "confusion matrix\n",
      "[[26390  2417]\n",
      " [ 2351  3139]]\n",
      "accuracy score\n",
      "0.860979094381\n"
     ]
    }
   ],
   "source": [
    "print(dt_report)\n",
    "print(\"confusion matrix\")\n",
    "print(confusion_matrix(Test_Y, y_pred_dt))\n",
    "print(\"accuracy score\")\n",
    "print(accuracy_score(Test_Y, y_pred_dt, normalize=True, sample_weight=None))"
   ]
  },
  {
   "cell_type": "code",
   "execution_count": 69,
   "metadata": {},
   "outputs": [
    {
     "name": "stdout",
     "output_type": "stream",
     "text": [
      "Model: RandomForestClassifier\n",
      "Precision = 0.0\n",
      "Recall    = 0.0\n",
      "F1 score  = 0.0\n",
      "Accuracy score  = 0.8390943695956332\n"
     ]
    }
   ],
   "source": [
    "print (\"Model: RandomForestClassifier\")\n",
    "rfc = RandomForestClassifier(max_depth=2, random_state=0)\n",
    "precision_rfc = cross_val_score(rfc, Train_X, Train_Y, cv=10, scoring='precision', n_jobs=-1)\n",
    "print (\"Precision = {}\".format(precision_rfc.mean()))\n",
    "recall_rfc = cross_val_score(rfc, Train_X, Train_Y, cv=10, scoring='recall', n_jobs=-1)\n",
    "print (\"Recall    = {}\".format(recall_rfc.mean()))\n",
    "f1score_rfc = cross_val_score(rfc, Train_X, Train_Y, cv=10, scoring='f1', n_jobs=-1)\n",
    "print (\"F1 score  = {}\".format(f1score_rfc.mean()))\n",
    "accscore_rfc = cross_val_score(rfc, Train_X, Train_Y, cv=10, scoring='accuracy', n_jobs=-1)\n",
    "print (\"Accuracy score  = {}\".format(accscore_rfc.mean()))"
   ]
  },
  {
   "cell_type": "code",
   "execution_count": 70,
   "metadata": {},
   "outputs": [
    {
     "data": {
      "text/plain": [
       "RandomForestClassifier(bootstrap=True, class_weight=None, criterion='gini',\n",
       "            max_depth=2, max_features='auto', max_leaf_nodes=None,\n",
       "            min_impurity_decrease=0.0, min_impurity_split=None,\n",
       "            min_samples_leaf=1, min_samples_split=2,\n",
       "            min_weight_fraction_leaf=0.0, n_estimators=10, n_jobs=1,\n",
       "            oob_score=False, random_state=0, verbose=0, warm_start=False)"
      ]
     },
     "execution_count": 70,
     "metadata": {},
     "output_type": "execute_result"
    }
   ],
   "source": [
    "rfc.fit(X=Train_X,y=Train_Y) "
   ]
  },
  {
   "cell_type": "code",
   "execution_count": 71,
   "metadata": {
    "collapsed": true
   },
   "outputs": [],
   "source": [
    "y_pred_rfc=rfc.predict(Test_X)"
   ]
  },
  {
   "cell_type": "code",
   "execution_count": 72,
   "metadata": {},
   "outputs": [
    {
     "name": "stderr",
     "output_type": "stream",
     "text": [
      "C:\\Users\\soumya\\Anaconda3\\anaconda\\lib\\site-packages\\sklearn\\metrics\\classification.py:1135: UndefinedMetricWarning: Precision and F-score are ill-defined and being set to 0.0 in labels with no predicted samples.\n",
      "  'precision', 'predicted', average, warn_for)\n"
     ]
    }
   ],
   "source": [
    "rfc_report=sklearn.metrics.classification_report(Test_Y,y_pred_rfc)"
   ]
  },
  {
   "cell_type": "code",
   "execution_count": 73,
   "metadata": {},
   "outputs": [
    {
     "name": "stdout",
     "output_type": "stream",
     "text": [
      "             precision    recall  f1-score   support\n",
      "\n",
      "          0       0.84      1.00      0.91     28807\n",
      "          1       0.00      0.00      0.00      5490\n",
      "\n",
      "avg / total       0.71      0.84      0.77     34297\n",
      "\n",
      "confusion matrix\n",
      "[[28807     0]\n",
      " [ 5490     0]]\n",
      "accuracy score\n",
      "0.839927690469\n"
     ]
    }
   ],
   "source": [
    "print(rfc_report)\n",
    "print(\"confusion matrix\")\n",
    "print(confusion_matrix(Test_Y, y_pred_rfc))\n",
    "print(\"accuracy score\")\n",
    "print(accuracy_score(Test_Y, y_pred_rfc, normalize=True, sample_weight=None))"
   ]
  },
  {
   "cell_type": "code",
   "execution_count": null,
   "metadata": {
    "collapsed": true
   },
   "outputs": [],
   "source": []
  },
  {
   "cell_type": "code",
   "execution_count": null,
   "metadata": {
    "collapsed": true
   },
   "outputs": [],
   "source": []
  }
 ],
 "metadata": {
  "kernelspec": {
   "display_name": "Python 3",
   "language": "python",
   "name": "python3"
  },
  "language_info": {
   "codemirror_mode": {
    "name": "ipython",
    "version": 3
   },
   "file_extension": ".py",
   "mimetype": "text/x-python",
   "name": "python",
   "nbconvert_exporter": "python",
   "pygments_lexer": "ipython3",
   "version": "3.6.3"
  }
 },
 "nbformat": 4,
 "nbformat_minor": 2
}
